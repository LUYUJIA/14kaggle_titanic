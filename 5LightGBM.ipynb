{
 "cells": [
  {
   "cell_type": "markdown",
   "metadata": {},
   "source": [
    "# LightGBM　お試し\n",
    "#### パラメーター\n",
    "- https://github.com/Microsoft/LightGBM/blob/master/docs/Parameters.rst\n",
    "- http://lightgbm.readthedocs.io/en/latest/Installation-Guide.html\n",
    "- https://medium.com/@pushkarmandot/https-medium-com-pushkarmandot-what-is-lightgbm-how-to-implement-it-how-to-fine-tune-the-parameters-60347819b7fc\n",
    "- 公式には書かれてないが、applicationを分離した、objectionとmetricがある模様"
   ]
  },
  {
   "cell_type": "code",
   "execution_count": 3,
   "metadata": {},
   "outputs": [],
   "source": [
    "import lightgbm as lgbm\n",
    "import numpy as np\n",
    "from sklearn.cross_validation import KFold, train_test_split\n",
    "from sklearn.metrics import confusion_matrix, mean_squared_error\n",
    "from sklearn.grid_search import GridSearchCV\n",
    "import pandas as pd\n",
    "\n",
    "import warnings #エラーを防ぐ\n",
    "warnings.filterwarnings(action='ignore', category=DeprecationWarning)"
   ]
  },
  {
   "cell_type": "code",
   "execution_count": 4,
   "metadata": {},
   "outputs": [
    {
     "data": {
      "text/html": [
       "<div>\n",
       "<style scoped>\n",
       "    .dataframe tbody tr th:only-of-type {\n",
       "        vertical-align: middle;\n",
       "    }\n",
       "\n",
       "    .dataframe tbody tr th {\n",
       "        vertical-align: top;\n",
       "    }\n",
       "\n",
       "    .dataframe thead th {\n",
       "        text-align: right;\n",
       "    }\n",
       "</style>\n",
       "<table border=\"1\" class=\"dataframe\">\n",
       "  <thead>\n",
       "    <tr style=\"text-align: right;\">\n",
       "      <th></th>\n",
       "      <th>Sex</th>\n",
       "      <th>Age</th>\n",
       "      <th>SibSp</th>\n",
       "      <th>Parch</th>\n",
       "      <th>Fare</th>\n",
       "      <th>Pclass_1</th>\n",
       "      <th>Pclass_2</th>\n",
       "      <th>Pclass_3</th>\n",
       "      <th>Embarked_C</th>\n",
       "      <th>Embarked_Q</th>\n",
       "      <th>Embarked_S</th>\n",
       "    </tr>\n",
       "  </thead>\n",
       "  <tbody>\n",
       "    <tr>\n",
       "      <th>413</th>\n",
       "      <td>1</td>\n",
       "      <td>0.377084</td>\n",
       "      <td>0</td>\n",
       "      <td>0</td>\n",
       "      <td>8.0500</td>\n",
       "      <td>0</td>\n",
       "      <td>0</td>\n",
       "      <td>1</td>\n",
       "      <td>0</td>\n",
       "      <td>0</td>\n",
       "      <td>1</td>\n",
       "    </tr>\n",
       "    <tr>\n",
       "      <th>414</th>\n",
       "      <td>0</td>\n",
       "      <td>0.486409</td>\n",
       "      <td>0</td>\n",
       "      <td>0</td>\n",
       "      <td>108.9000</td>\n",
       "      <td>1</td>\n",
       "      <td>0</td>\n",
       "      <td>0</td>\n",
       "      <td>1</td>\n",
       "      <td>0</td>\n",
       "      <td>0</td>\n",
       "    </tr>\n",
       "    <tr>\n",
       "      <th>415</th>\n",
       "      <td>1</td>\n",
       "      <td>0.480145</td>\n",
       "      <td>0</td>\n",
       "      <td>0</td>\n",
       "      <td>7.2500</td>\n",
       "      <td>0</td>\n",
       "      <td>0</td>\n",
       "      <td>1</td>\n",
       "      <td>0</td>\n",
       "      <td>0</td>\n",
       "      <td>1</td>\n",
       "    </tr>\n",
       "    <tr>\n",
       "      <th>416</th>\n",
       "      <td>1</td>\n",
       "      <td>0.377084</td>\n",
       "      <td>0</td>\n",
       "      <td>0</td>\n",
       "      <td>8.0500</td>\n",
       "      <td>0</td>\n",
       "      <td>0</td>\n",
       "      <td>1</td>\n",
       "      <td>0</td>\n",
       "      <td>0</td>\n",
       "      <td>1</td>\n",
       "    </tr>\n",
       "    <tr>\n",
       "      <th>417</th>\n",
       "      <td>1</td>\n",
       "      <td>0.377084</td>\n",
       "      <td>1</td>\n",
       "      <td>1</td>\n",
       "      <td>22.3583</td>\n",
       "      <td>0</td>\n",
       "      <td>0</td>\n",
       "      <td>1</td>\n",
       "      <td>1</td>\n",
       "      <td>0</td>\n",
       "      <td>0</td>\n",
       "    </tr>\n",
       "  </tbody>\n",
       "</table>\n",
       "</div>"
      ],
      "text/plain": [
       "     Sex       Age  SibSp  Parch      Fare  Pclass_1  Pclass_2  Pclass_3  \\\n",
       "413    1  0.377084      0      0    8.0500         0         0         1   \n",
       "414    0  0.486409      0      0  108.9000         1         0         0   \n",
       "415    1  0.480145      0      0    7.2500         0         0         1   \n",
       "416    1  0.377084      0      0    8.0500         0         0         1   \n",
       "417    1  0.377084      1      1   22.3583         0         0         1   \n",
       "\n",
       "     Embarked_C  Embarked_Q  Embarked_S  \n",
       "413           0           0           1  \n",
       "414           1           0           0  \n",
       "415           0           0           1  \n",
       "416           0           0           1  \n",
       "417           1           0           0  "
      ]
     },
     "execution_count": 4,
     "metadata": {},
     "output_type": "execute_result"
    }
   ],
   "source": [
    "train_df6 =pd.read_csv(\"train.csv\", header=0)\n",
    "test_df6 =pd.read_csv(\"test.csv\", header=0)\n",
    "test_df6.tail()"
   ]
  },
  {
   "cell_type": "code",
   "execution_count": 9,
   "metadata": {},
   "outputs": [
    {
     "name": "stdout",
     "output_type": "stream",
     "text": [
      "train_x:(712, 11)\n",
      "train_y:(712, 1)\n",
      "valid_x:(179, 11)\n",
      "valid_y:(179, 1)\n"
     ]
    }
   ],
   "source": [
    "# 学習データと評価データに分ける\n",
    "from sklearn.preprocessing import LabelBinarizer\n",
    "from sklearn.model_selection import train_test_split\n",
    "\n",
    "def split_valid_test_data(data, fraction=(0.2)):\n",
    "    #目的変数を抽出\n",
    "    data_y = data[\"Survived\"]\n",
    "    lb = LabelBinarizer()\n",
    "    data_y = lb.fit_transform(data_y)#arrayにしている\n",
    "    \n",
    "    #目的変数を消す\n",
    "    data_x = data.drop([\"Survived\"], axis=1)\n",
    "    \n",
    "    #pandasで分ける\n",
    "    train_x, valid_x, train_y, valid_y = train_test_split(data_x, data_y, test_size=fraction)\n",
    "\n",
    "    return train_x.values, train_y, valid_x.values, valid_y\n",
    "\n",
    "train_x, train_y, valid_x, valid_y = split_valid_test_data(train_df6)\n",
    "print(\"train_x:{}\".format(train_x.shape))\n",
    "print(\"train_y:{}\".format(train_y.shape))\n",
    "print(\"valid_x:{}\".format(valid_x.shape))\n",
    "print(\"valid_y:{}\".format(valid_y.shape))\n",
    "train_y = train_y.T[0]\n",
    "valid_y = valid_y.T[0]"
   ]
  },
  {
   "cell_type": "code",
   "execution_count": 10,
   "metadata": {},
   "outputs": [],
   "source": [
    "params={\"objective\": \"binary:logistic\", \n",
    "        \"eval_metric\": \"error\",\n",
    "        #\"num_class\": 3, \n",
    "        \n",
    "        #\"eta\": 0.3, \n",
    "        #'n_estimators': 100,\n",
    "        \n",
    "        \n",
    "        #\"max_depth\": 6, \n",
    "        #\"gamma\": 0,\n",
    "        #\"min_child_weight\": 1, \n",
    "        #\"subsample\": 1, \n",
    "        #\"colsample_bytree\": 1,\n",
    "    \n",
    "        #\"reg_lambda\":, \n",
    "        #\"reg_alpha\":\n",
    "        }"
   ]
  },
  {
   "cell_type": "code",
   "execution_count": 11,
   "metadata": {},
   "outputs": [
    {
     "name": "stdout",
     "output_type": "stream",
     "text": [
      "Fitting 3 folds for each of 6 candidates, totalling 18 fits\n",
      "0.8356741573033708\n",
      "{'learning_rate': 0.05}\n"
     ]
    },
    {
     "name": "stderr",
     "output_type": "stream",
     "text": [
      "[Parallel(n_jobs=1)]: Done  18 out of  18 | elapsed:    0.6s finished\n"
     ]
    }
   ],
   "source": [
    "params = {\n",
    "  'nthread': 4, \n",
    "  'applicatin':  'binary', \n",
    "  \n",
    "  #'learning_rate': 0.05,  \n",
    "  #'num_leaves': 31,#葉の数\n",
    "  #'num_boost_round':100 #木の本数\n",
    "\n",
    "  #'subsample': 0.8, # bagging_fraction\n",
    "  #'colsample_bytree': 0.8, # feature_fraction \n",
    "  \n",
    "  #'reg_alpha': 5,\n",
    "  #'reg_lambda': 10,\n",
    "}\n",
    "\n",
    "\n",
    "model = lgbm.LGBMClassifier(**params)\n",
    "class_cv = GridSearchCV(model,\n",
    "                   {'learning_rate': [0.05,0.1,0.15,0.20,0.25,0.3],\n",
    "                   },verbose = 1)\n",
    "class_cv.fit(train_x,train_y)\n",
    "print(class_cv.best_score_)#評価関数でのスコア、通常は正答率に該当\n",
    "print(class_cv.best_params_)"
   ]
  },
  {
   "cell_type": "code",
   "execution_count": 16,
   "metadata": {},
   "outputs": [
    {
     "name": "stdout",
     "output_type": "stream",
     "text": [
      "Fitting 3 folds for each of 4 candidates, totalling 12 fits\n",
      "0.8356741573033708\n",
      "{'num_leaves': 31}\n"
     ]
    },
    {
     "name": "stderr",
     "output_type": "stream",
     "text": [
      "[Parallel(n_jobs=1)]: Done  12 out of  12 | elapsed:    0.4s finished\n"
     ]
    }
   ],
   "source": [
    "params = {\n",
    "  'nthread': 4, \n",
    "  'applicatin':  'binary', #regression,multiclass\n",
    "  \n",
    "  'learning_rate': 0.05,  \n",
    "  #'num_leaves': 31,#葉の数\n",
    "  #'num_boost_round':100 #木の本数\n",
    "\n",
    "  #'subsample': 0.8, # bagging_fraction\n",
    "  #'colsample_bytree': 0.8, # feature_fraction \n",
    "  \n",
    "  #'reg_alpha': 5,\n",
    "  #'reg_lambda': 10,\n",
    "}\n",
    "\n",
    "\n",
    "model = lgbm.LGBMClassifier(**params)#LGBMRegressor\n",
    "class_cv = GridSearchCV(model,\n",
    "                   {'num_leaves': [15,31,63,127],#葉の数\n",
    "                    #'num_boost_round':[250,100,150,200] #木の本数 何故かエラーを吐く\n",
    "                   },verbose = 1)\n",
    "class_cv.fit(train_x,train_y)\n",
    "print(class_cv.best_score_)#評価関数でのスコア、通常は正答率に該当\n",
    "print(class_cv.best_params_)"
   ]
  },
  {
   "cell_type": "code",
   "execution_count": 17,
   "metadata": {},
   "outputs": [
    {
     "data": {
      "text/plain": [
       "LGBMClassifier(applicatin='binary', boosting_type='gbdt', class_weight=None,\n",
       "        colsample_bytree=1.0, learning_rate=0.05, max_depth=-1,\n",
       "        min_child_samples=20, min_child_weight=0.001, min_split_gain=0.0,\n",
       "        n_estimators=100, n_jobs=-1, nthread=4, num_leaves=31,\n",
       "        objective=None, random_state=None, reg_alpha=0.0, reg_lambda=0.0,\n",
       "        silent=True, subsample=1.0, subsample_for_bin=200000,\n",
       "        subsample_freq=1)"
      ]
     },
     "execution_count": 17,
     "metadata": {},
     "output_type": "execute_result"
    }
   ],
   "source": [
    "params = {\n",
    "  'nthread': 4, \n",
    "  'applicatin':  'binary', #regression,multiclass\n",
    "  \n",
    "  'learning_rate': 0.05,  \n",
    "  'num_leaves': 31,#葉の数\n",
    "  #'num_boost_round':100 #木の本数\n",
    "\n",
    "  #'subsample': 0.8, # bagging_fraction\n",
    "  #'colsample_bytree': 0.8, # feature_fraction \n",
    "  \n",
    "  #'reg_alpha': 5,\n",
    "  #'reg_lambda': 10,\n",
    "}\n",
    "\n",
    "clf_class = lgbm.LGBMClassifier(**params)\n",
    "\n",
    "clf_class.fit(train_x, train_y)"
   ]
  },
  {
   "cell_type": "code",
   "execution_count": 18,
   "metadata": {},
   "outputs": [
    {
     "data": {
      "text/plain": [
       "(0.9143258426966292, 0.8044692737430168)"
      ]
     },
     "execution_count": 18,
     "metadata": {},
     "output_type": "execute_result"
    }
   ],
   "source": [
    "pred_train = clf_class.predict(train_x)\n",
    "pred_valid = clf_class.predict(valid_x)\n",
    "train_score = sum(pred_train== train_y)/len(train_y)\n",
    "valid_score  = sum(pred_valid== valid_y)/len(valid_y)\n",
    "\n",
    "train_score,valid_score"
   ]
  },
  {
   "cell_type": "code",
   "execution_count": 19,
   "metadata": {},
   "outputs": [
    {
     "data": {
      "text/plain": [
       "array([0, 0, 0, 0, 0, 0, 1, 0, 1, 0, 0, 0, 1, 0, 1, 1, 0, 0, 0, 0, 1, 0,\n",
       "       1, 1, 1, 0, 1, 0, 1, 0, 0, 0, 0, 0, 0, 0, 0, 0, 0, 1, 0, 1, 0, 1,\n",
       "       1, 0, 0, 0, 1, 1, 1, 0, 1, 1, 0, 0, 0, 0, 0, 1, 0, 0, 0, 1, 1, 1,\n",
       "       1, 0, 0, 1, 1, 0, 0, 0, 1, 0, 0, 1, 0, 1, 1, 0, 0, 0, 0, 0, 1, 0,\n",
       "       1, 1, 0, 0, 1, 0, 1, 0, 1, 0, 1, 0, 1, 0, 0, 0, 0, 0, 0, 0, 0, 0,\n",
       "       0, 1, 1, 1, 1, 0, 0, 1, 1, 1, 1, 0, 1, 0, 0, 1, 0, 1, 0, 0, 0, 0,\n",
       "       0, 0, 0, 0, 0, 0, 0, 0, 0, 1, 0, 0, 1, 0, 0, 0, 1, 0, 1, 0, 0, 0,\n",
       "       0, 0, 1, 1, 1, 0, 1, 1, 1, 0, 0, 0, 0, 0, 1, 0, 0, 0, 0, 0, 0, 1,\n",
       "       1, 1, 1, 1, 0, 0, 1, 0, 1, 0, 1, 0, 0, 0, 0, 0, 0, 0, 1, 0, 1, 1,\n",
       "       0, 0, 1, 1, 0, 1, 0, 0, 1, 0, 1, 0, 0, 0, 0, 1, 0, 0, 1, 0, 1, 0,\n",
       "       1, 0, 1, 0, 1, 1, 0, 1, 0, 0, 0, 1, 0, 0, 1, 0, 0, 0, 1, 1, 1, 1,\n",
       "       0, 0, 0, 0, 1, 0, 1, 0, 1, 0, 0, 0, 0, 0, 0, 0, 1, 0, 0, 0, 1, 1,\n",
       "       0, 0, 0, 0, 0, 0, 0, 0, 1, 1, 0, 1, 0, 0, 0, 0, 0, 1, 1, 1, 0, 0,\n",
       "       0, 0, 0, 0, 0, 0, 0, 0, 0, 0, 1, 0, 0, 0, 0, 0, 0, 0, 1, 1, 0, 1,\n",
       "       0, 0, 0, 0, 0, 0, 1, 1, 0, 0, 0, 0, 0, 0, 0, 1, 1, 0, 1, 0, 0, 0,\n",
       "       1, 0, 0, 1, 0, 0, 0, 0, 0, 0, 0, 0, 0, 1, 0, 1, 0, 0, 0, 1, 1, 0,\n",
       "       0, 0, 0, 0, 1, 0, 0, 1, 0, 1, 1, 0, 1, 0, 0, 0, 1, 0, 0, 1, 0, 0,\n",
       "       1, 1, 0, 0, 0, 0, 0, 0, 0, 1, 0, 1, 0, 0, 0, 0, 0, 1, 0, 0, 0, 1,\n",
       "       0, 1, 0, 0, 1, 0, 1, 0, 0, 0, 0, 0, 1, 1, 1, 1, 1, 0, 1, 0, 0, 0])"
      ]
     },
     "execution_count": 19,
     "metadata": {},
     "output_type": "execute_result"
    }
   ],
   "source": [
    "pred_valid = clf_class.predict(test_df6.values)\n",
    "pred_valid"
   ]
  },
  {
   "cell_type": "code",
   "execution_count": 20,
   "metadata": {},
   "outputs": [
    {
     "data": {
      "text/html": [
       "<div>\n",
       "<style scoped>\n",
       "    .dataframe tbody tr th:only-of-type {\n",
       "        vertical-align: middle;\n",
       "    }\n",
       "\n",
       "    .dataframe tbody tr th {\n",
       "        vertical-align: top;\n",
       "    }\n",
       "\n",
       "    .dataframe thead th {\n",
       "        text-align: right;\n",
       "    }\n",
       "</style>\n",
       "<table border=\"1\" class=\"dataframe\">\n",
       "  <thead>\n",
       "    <tr style=\"text-align: right;\">\n",
       "      <th></th>\n",
       "      <th>PassengerId</th>\n",
       "      <th>Survived</th>\n",
       "    </tr>\n",
       "  </thead>\n",
       "  <tbody>\n",
       "    <tr>\n",
       "      <th>413</th>\n",
       "      <td>1305</td>\n",
       "      <td>0</td>\n",
       "    </tr>\n",
       "    <tr>\n",
       "      <th>414</th>\n",
       "      <td>1306</td>\n",
       "      <td>1</td>\n",
       "    </tr>\n",
       "    <tr>\n",
       "      <th>415</th>\n",
       "      <td>1307</td>\n",
       "      <td>0</td>\n",
       "    </tr>\n",
       "    <tr>\n",
       "      <th>416</th>\n",
       "      <td>1308</td>\n",
       "      <td>0</td>\n",
       "    </tr>\n",
       "    <tr>\n",
       "      <th>417</th>\n",
       "      <td>1309</td>\n",
       "      <td>0</td>\n",
       "    </tr>\n",
       "  </tbody>\n",
       "</table>\n",
       "</div>"
      ],
      "text/plain": [
       "     PassengerId  Survived\n",
       "413         1305         0\n",
       "414         1306         1\n",
       "415         1307         0\n",
       "416         1308         0\n",
       "417         1309         0"
      ]
     },
     "execution_count": 20,
     "metadata": {},
     "output_type": "execute_result"
    }
   ],
   "source": [
    "submission =pd.read_csv(\"id.csv\", header=0)\n",
    "submission[\"Survived\"] = pred_valid\n",
    "submission.to_csv(\"submission_lgbm.csv\",index=False)\n",
    "submission.tail()"
   ]
  },
  {
   "cell_type": "code",
   "execution_count": 58,
   "metadata": {},
   "outputs": [
    {
     "data": {
      "text/plain": [
       "(0.8328651685393258, 0.7988826815642458)"
      ]
     },
     "execution_count": 58,
     "metadata": {},
     "output_type": "execute_result"
    }
   ],
   "source": [
    "from sklearn import tree\n",
    "clf_class = tree.DecisionTreeClassifier(max_depth=3, random_state=0)\n",
    "clf_class.fit(train_x, train_y)\n",
    "\n",
    "pred_train = clf_class.predict(train_x)\n",
    "pred_valid = clf_class.predict(valid_x)\n",
    "train_score = sum(pred_train== train_y)/len(train_y)\n",
    "valid_score  = sum(pred_valid== valid_y)/len(valid_y)\n",
    "\n",
    "train_score,valid_score"
   ]
  },
  {
   "cell_type": "code",
   "execution_count": 59,
   "metadata": {},
   "outputs": [
    {
     "data": {
      "image/png": "[encoded data removed]",
      "text/plain": [
       "<IPython.core.display.Image object>"
      ]
     },
     "execution_count": 59,
     "metadata": {},
     "output_type": "execute_result"
    }
   ],
   "source": [
    "#可視化\n",
    "import pydotplus\n",
    "from IPython.display import Image\n",
    "from graphviz import Digraph\n",
    "from sklearn.externals.six import StringIO\n",
    "\n",
    "dot_data = StringIO()\n",
    "tree.export_graphviz(clf_class, out_file=dot_data,feature_names=test_df6.columns, max_depth=3)\n",
    "graph = pydotplus.graph_from_dot_data(dot_data.getvalue())\n",
    "graph.write_pdf(\"graph.pdf\")\n",
    "Image(graph.create_png())"
   ]
  }
 ],
 "metadata": {
  "kernelspec": {
   "display_name": "Python 3",
   "language": "python",
   "name": "python3"
  },
  "language_info": {
   "codemirror_mode": {
    "name": "ipython",
    "version": 3
   },
   "file_extension": ".py",
   "mimetype": "text/x-python",
   "name": "python",
   "nbconvert_exporter": "python",
   "pygments_lexer": "ipython3",
   "version": "3.5.3"
  }
 },
 "nbformat": 4,
 "nbformat_minor": 2
}
