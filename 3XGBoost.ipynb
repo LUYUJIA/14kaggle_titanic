{
 "cells": [
  {
   "cell_type": "code",
   "execution_count": 2,
   "metadata": {},
   "outputs": [],
   "source": [
    "import xgboost as xgb\n",
    "import numpy as np\n",
    "from sklearn.cross_validation import KFold, train_test_split\n",
    "from sklearn.metrics import confusion_matrix, mean_squared_error\n",
    "from sklearn.grid_search import GridSearchCV\n",
    "import pandas as pd\n",
    "\n",
    "import warnings #エラーを防ぐ\n",
    "warnings.filterwarnings(action='ignore', category=DeprecationWarning)"
   ]
  },
  {
   "cell_type": "code",
   "execution_count": 3,
   "metadata": {},
   "outputs": [
    {
     "data": {
      "text/html": [
       "<div>\n",
       "<style scoped>\n",
       "    .dataframe tbody tr th:only-of-type {\n",
       "        vertical-align: middle;\n",
       "    }\n",
       "\n",
       "    .dataframe tbody tr th {\n",
       "        vertical-align: top;\n",
       "    }\n",
       "\n",
       "    .dataframe thead th {\n",
       "        text-align: right;\n",
       "    }\n",
       "</style>\n",
       "<table border=\"1\" class=\"dataframe\">\n",
       "  <thead>\n",
       "    <tr style=\"text-align: right;\">\n",
       "      <th></th>\n",
       "      <th>Sex</th>\n",
       "      <th>Age</th>\n",
       "      <th>SibSp</th>\n",
       "      <th>Parch</th>\n",
       "      <th>Fare</th>\n",
       "      <th>Pclass_1</th>\n",
       "      <th>Pclass_2</th>\n",
       "      <th>Pclass_3</th>\n",
       "      <th>Embarked_C</th>\n",
       "      <th>Embarked_Q</th>\n",
       "      <th>Embarked_S</th>\n",
       "    </tr>\n",
       "  </thead>\n",
       "  <tbody>\n",
       "    <tr>\n",
       "      <th>413</th>\n",
       "      <td>1</td>\n",
       "      <td>0.377084</td>\n",
       "      <td>0</td>\n",
       "      <td>0</td>\n",
       "      <td>8.0500</td>\n",
       "      <td>0</td>\n",
       "      <td>0</td>\n",
       "      <td>1</td>\n",
       "      <td>0</td>\n",
       "      <td>0</td>\n",
       "      <td>1</td>\n",
       "    </tr>\n",
       "    <tr>\n",
       "      <th>414</th>\n",
       "      <td>0</td>\n",
       "      <td>0.486409</td>\n",
       "      <td>0</td>\n",
       "      <td>0</td>\n",
       "      <td>108.9000</td>\n",
       "      <td>1</td>\n",
       "      <td>0</td>\n",
       "      <td>0</td>\n",
       "      <td>1</td>\n",
       "      <td>0</td>\n",
       "      <td>0</td>\n",
       "    </tr>\n",
       "    <tr>\n",
       "      <th>415</th>\n",
       "      <td>1</td>\n",
       "      <td>0.480145</td>\n",
       "      <td>0</td>\n",
       "      <td>0</td>\n",
       "      <td>7.2500</td>\n",
       "      <td>0</td>\n",
       "      <td>0</td>\n",
       "      <td>1</td>\n",
       "      <td>0</td>\n",
       "      <td>0</td>\n",
       "      <td>1</td>\n",
       "    </tr>\n",
       "    <tr>\n",
       "      <th>416</th>\n",
       "      <td>1</td>\n",
       "      <td>0.377084</td>\n",
       "      <td>0</td>\n",
       "      <td>0</td>\n",
       "      <td>8.0500</td>\n",
       "      <td>0</td>\n",
       "      <td>0</td>\n",
       "      <td>1</td>\n",
       "      <td>0</td>\n",
       "      <td>0</td>\n",
       "      <td>1</td>\n",
       "    </tr>\n",
       "    <tr>\n",
       "      <th>417</th>\n",
       "      <td>1</td>\n",
       "      <td>0.377084</td>\n",
       "      <td>1</td>\n",
       "      <td>1</td>\n",
       "      <td>22.3583</td>\n",
       "      <td>0</td>\n",
       "      <td>0</td>\n",
       "      <td>1</td>\n",
       "      <td>1</td>\n",
       "      <td>0</td>\n",
       "      <td>0</td>\n",
       "    </tr>\n",
       "  </tbody>\n",
       "</table>\n",
       "</div>"
      ],
      "text/plain": [
       "     Sex       Age  SibSp  Parch      Fare  Pclass_1  Pclass_2  Pclass_3  \\\n",
       "413    1  0.377084      0      0    8.0500         0         0         1   \n",
       "414    0  0.486409      0      0  108.9000         1         0         0   \n",
       "415    1  0.480145      0      0    7.2500         0         0         1   \n",
       "416    1  0.377084      0      0    8.0500         0         0         1   \n",
       "417    1  0.377084      1      1   22.3583         0         0         1   \n",
       "\n",
       "     Embarked_C  Embarked_Q  Embarked_S  \n",
       "413           0           0           1  \n",
       "414           1           0           0  \n",
       "415           0           0           1  \n",
       "416           0           0           1  \n",
       "417           1           0           0  "
      ]
     },
     "execution_count": 3,
     "metadata": {},
     "output_type": "execute_result"
    }
   ],
   "source": [
    "train_df6 =pd.read_csv(\"train.csv\", header=0)\n",
    "test_df6 =pd.read_csv(\"test.csv\", header=0)\n",
    "test_df6.tail()"
   ]
  },
  {
   "cell_type": "code",
   "execution_count": 9,
   "metadata": {},
   "outputs": [
    {
     "name": "stdout",
     "output_type": "stream",
     "text": [
      "train_x:(712, 11)\n",
      "train_y:(712, 1)\n",
      "valid_x:(179, 11)\n",
      "valid_y:(179, 1)\n"
     ]
    }
   ],
   "source": [
    "# 学習データと評価データに分ける\n",
    "from sklearn.preprocessing import LabelBinarizer\n",
    "from sklearn.model_selection import train_test_split\n",
    "\n",
    "def split_valid_test_data(data, fraction=(0.2)):\n",
    "    #目的変数を抽出\n",
    "    data_y = data[\"Survived\"]\n",
    "    lb = LabelBinarizer()\n",
    "    data_y = lb.fit_transform(data_y)#arrayにしている\n",
    "    \n",
    "    #目的変数を消す\n",
    "    data_x = data.drop([\"Survived\"], axis=1)\n",
    "    \n",
    "    #pandasで分ける\n",
    "    train_x, valid_x, train_y, valid_y = train_test_split(data_x, data_y, test_size=fraction)\n",
    "\n",
    "    return train_x.values, train_y, valid_x.values, valid_y\n",
    "\n",
    "train_x, train_y, valid_x, valid_y = split_valid_test_data(train_df6)\n",
    "print(\"train_x:{}\".format(train_x.shape))\n",
    "print(\"train_y:{}\".format(train_y.shape))\n",
    "print(\"valid_x:{}\".format(valid_x.shape))\n",
    "print(\"valid_y:{}\".format(valid_y.shape))\n",
    "train_y = train_y.T[0]\n",
    "valid_y = valid_y.T[0]"
   ]
  },
  {
   "cell_type": "code",
   "execution_count": 10,
   "metadata": {},
   "outputs": [
    {
     "name": "stdout",
     "output_type": "stream",
     "text": [
      "Fitting 3 folds for each of 18 candidates, totalling 54 fits\n",
      "0.7991573033707865\n",
      "{'n_estimators': 50, 'learning_rate': 0.05}\n"
     ]
    },
    {
     "name": "stderr",
     "output_type": "stream",
     "text": [
      "[Parallel(n_jobs=1)]: Done  54 out of  54 | elapsed:    1.5s finished\n"
     ]
    }
   ],
   "source": [
    "params={\"objective\": \"binary:logistic\", \n",
    "        \"eval_metric\": \"error\",\n",
    "        #\"num_class\": 3, \n",
    "        \n",
    "        #\"eta\": 0.3, \n",
    "        #'n_estimators': 100,\n",
    "        \n",
    "        \n",
    "        #\"max_depth\": 6, \n",
    "        #\"gamma\": 0,\n",
    "        #\"min_child_weight\": 1, \n",
    "        #\"subsample\": 1, \n",
    "        #\"colsample_bytree\": 1,\n",
    "    \n",
    "        #\"reg_lambda\":, \n",
    "        #\"reg_alpha\":\n",
    "        }\n",
    "\n",
    "\n",
    "xgb_model = xgb.XGBClassifier(**params)\n",
    "class_cv = GridSearchCV(xgb_model,\n",
    "                   {'learning_rate': [0.05,0.1,0.15,0.20,0.25,0.3],\n",
    "                    'n_estimators': [50,100,200]\n",
    "                   },verbose = 1)\n",
    "class_cv.fit(train_x,train_y)\n",
    "print(class_cv.best_score_)#評価関数でのスコア、通常は正答率に該当\n",
    "print(class_cv.best_params_)"
   ]
  },
  {
   "cell_type": "code",
   "execution_count": 82,
   "metadata": {},
   "outputs": [
    {
     "name": "stdout",
     "output_type": "stream",
     "text": [
      "Fitting 3 folds for each of 120 candidates, totalling 360 fits\n",
      "0.8328651685393258\n",
      "{'max_depth': 8, 'gamma': 0.4, 'min_child_weight': 5}\n"
     ]
    },
    {
     "name": "stderr",
     "output_type": "stream",
     "text": [
      "[Parallel(n_jobs=1)]: Done 360 out of 360 | elapsed:    7.4s finished\n"
     ]
    }
   ],
   "source": [
    "params={\"objective\": \"binary:logistic\", \n",
    "        \"eval_metric\": \"error\",\n",
    "        #\"num_class\": 3, \n",
    "        \n",
    "        \"eta\": 0.05, \n",
    "        'n_estimators': 50,\n",
    "        \n",
    "        \n",
    "        #\"max_depth\": 6, \n",
    "        #\"gamma\": 0,\n",
    "        #\"min_child_weight\": 1, \n",
    "        #\"subsample\": 1, \n",
    "        #\"colsample_bytree\": 1,\n",
    "    \n",
    "        #\"reg_lambda\":, \n",
    "        #\"reg_alpha\":\n",
    "        }\n",
    "\n",
    "xgb_model = xgb.XGBClassifier(**params)\n",
    "class_cv = GridSearchCV(xgb_model,\n",
    "                   {\"max_depth\": [2,4,6,8,10],\n",
    "                    'min_child_weight': [1,3,5,7],\n",
    "                    'gamma':[0.1,0.2,0.3,0.4,0.5,0.6]\n",
    "                   },verbose = 1)\n",
    "class_cv.fit(train_x,train_y)\n",
    "print(class_cv.best_score_)#評価関数でのスコア、通常は正答率に該当\n",
    "print(class_cv.best_params_)"
   ]
  },
  {
   "cell_type": "code",
   "execution_count": 85,
   "metadata": {},
   "outputs": [
    {
     "name": "stdout",
     "output_type": "stream",
     "text": [
      "Fitting 3 folds for each of 36 candidates, totalling 108 fits\n",
      "0.8328651685393258\n",
      "{'colsample_bytree': 1.0, 'subsample': 1.0}\n"
     ]
    },
    {
     "name": "stderr",
     "output_type": "stream",
     "text": [
      "[Parallel(n_jobs=1)]: Done 108 out of 108 | elapsed:    2.1s finished\n"
     ]
    }
   ],
   "source": [
    "params={\"objective\": \"binary:logistic\", \n",
    "        \"eval_metric\": \"error\",\n",
    "        #\"num_class\": 3, \n",
    "        \n",
    "        \"eta\": 0.05, \n",
    "        'n_estimators': 50,\n",
    "        \n",
    "        \n",
    "        \"max_depth\": 8, \n",
    "        \"gamma\": 0.4,\n",
    "        \"min_child_weight\": 5, \n",
    "        \n",
    "        #\"subsample\": 1, \n",
    "        #\"colsample_bytree\": 1,\n",
    "    \n",
    "        #\"reg_lambda\":, \n",
    "        #\"reg_alpha\":\n",
    "        }\n",
    "\n",
    "xgb_model = xgb.XGBClassifier(**params)\n",
    "class_cv = GridSearchCV(xgb_model,\n",
    "                   {'subsample':[0.5,0.6,0.7,0.8,0.9,1.0],\n",
    "                    'colsample_bytree':[0.5,0.6,0.7,0.8,0.9,1.0]\n",
    "                   },verbose = 1)\n",
    "class_cv.fit(train_x,train_y)\n",
    "print(class_cv.best_score_)#評価関数でのスコア、通常は正答率に該当\n",
    "print(class_cv.best_params_)"
   ]
  },
  {
   "cell_type": "code",
   "execution_count": 88,
   "metadata": {},
   "outputs": [
    {
     "name": "stdout",
     "output_type": "stream",
     "text": [
      "Fitting 3 folds for each of 6 candidates, totalling 18 fits\n",
      "0.8328651685393258\n",
      "{'learning_rate': 0.1}\n"
     ]
    },
    {
     "name": "stderr",
     "output_type": "stream",
     "text": [
      "[Parallel(n_jobs=1)]: Done  18 out of  18 | elapsed:    0.4s finished\n"
     ]
    }
   ],
   "source": [
    "params={\"objective\": \"binary:logistic\", \n",
    "        \"eval_metric\": \"error\",\n",
    "        #\"num_class\": 3, \n",
    "        \n",
    "        \"eta\": 0.05, \n",
    "        'n_estimators': 50,\n",
    "        \n",
    "        \n",
    "        \"max_depth\": 8, \n",
    "        \"gamma\": 0.4,\n",
    "        \"min_child_weight\": 5, \n",
    "        \n",
    "        \"subsample\": 1, \n",
    "        \"colsample_bytree\": 1,\n",
    "    \n",
    "        #\"reg_lambda\":, \n",
    "        #\"reg_alpha\":\n",
    "        }\n",
    "\n",
    "xgb_model = xgb.XGBClassifier(**params)\n",
    "class_cv = GridSearchCV(xgb_model,\n",
    "                   {\n",
    "                     'learning_rate': [0.05,0.1,0.15,0.20,0.25,0.3]\n",
    "                   },verbose = 1)\n",
    "class_cv.fit(train_x,train_y)\n",
    "print(class_cv.best_score_)#評価関数でのスコア、通常は正答率に該当\n",
    "print(class_cv.best_params_)"
   ]
  },
  {
   "cell_type": "code",
   "execution_count": 31,
   "metadata": {},
   "outputs": [
    {
     "data": {
      "text/plain": [
       "XGBClassifier(base_score=0.5, booster='gbtree', colsample_bylevel=1,\n",
       "       colsample_bytree=1, eta=0.05, eval_metric='error', gamma=0.4,\n",
       "       learning_rate=0.1, max_delta_step=0, max_depth=8,\n",
       "       min_child_weight=5, missing=None, n_estimators=50, n_jobs=1,\n",
       "       nthread=None, objective='binary:logistic', random_state=0,\n",
       "       reg_alpha=0, reg_lambda=1, scale_pos_weight=1, seed=None,\n",
       "       silent=True, subsample=1)"
      ]
     },
     "execution_count": 31,
     "metadata": {},
     "output_type": "execute_result"
    }
   ],
   "source": [
    "params={\"objective\": \"binary:logistic\", \n",
    "        \"eval_metric\": \"error\",\n",
    "        #\"num_class\": 3, \n",
    "        \n",
    "        \"eta\": 0.05, \n",
    "        'n_estimators': 50,\n",
    "        \n",
    "        \n",
    "        \"max_depth\": 8, \n",
    "        \"gamma\": 0.4,\n",
    "        \"min_child_weight\": 5, \n",
    "        \n",
    "        \"subsample\": 1, \n",
    "        \"colsample_bytree\": 1,\n",
    "    \n",
    "        #\"reg_lambda\":, \n",
    "        #\"reg_alpha\":\n",
    "        }\n",
    "\n",
    "clf_class = xgb.XGBClassifier(**params)\n",
    "\n",
    "clf_class.fit(train_x, train_y)"
   ]
  },
  {
   "cell_type": "code",
   "execution_count": 140,
   "metadata": {},
   "outputs": [
    {
     "data": {
      "text/plain": [
       "(0.8806179775280899, 0.8491620111731844)"
      ]
     },
     "execution_count": 140,
     "metadata": {},
     "output_type": "execute_result"
    }
   ],
   "source": [
    "pred_train = clf_class.predict(train_x)\n",
    "pred_valid = clf_class.predict(valid_x)\n",
    "train_score = sum(pred_train== train_y)/len(train_y)\n",
    "valid_score  = sum(pred_valid== valid_y)/len(valid_y)\n",
    "\n",
    "train_score,valid_score"
   ]
  },
  {
   "cell_type": "code",
   "execution_count": 141,
   "metadata": {},
   "outputs": [
    {
     "data": {
      "text/plain": [
       "array([0, 0, 0, 0, 0, 0, 1, 0, 1, 0, 0, 0, 1, 0, 1, 1, 0, 0, 1, 1, 0, 1,\n",
       "       1, 0, 1, 0, 1, 0, 0, 0, 0, 0, 0, 0, 1, 0, 0, 0, 0, 1, 0, 1, 0, 1,\n",
       "       1, 0, 0, 0, 1, 1, 0, 0, 1, 1, 0, 0, 0, 0, 0, 1, 0, 0, 0, 1, 0, 1,\n",
       "       1, 0, 1, 1, 1, 0, 0, 0, 1, 1, 0, 1, 0, 1, 1, 0, 0, 0, 0, 0, 1, 0,\n",
       "       1, 1, 0, 0, 1, 0, 0, 0, 1, 0, 1, 0, 1, 0, 0, 0, 1, 0, 0, 0, 0, 0,\n",
       "       0, 1, 1, 1, 1, 0, 0, 1, 1, 1, 1, 0, 1, 0, 0, 1, 0, 1, 0, 0, 0, 0,\n",
       "       0, 0, 0, 0, 0, 0, 0, 0, 0, 1, 0, 0, 0, 0, 0, 0, 1, 0, 1, 0, 0, 0,\n",
       "       0, 0, 1, 1, 0, 0, 1, 1, 1, 0, 0, 0, 0, 0, 1, 0, 0, 0, 0, 0, 0, 1,\n",
       "       1, 0, 1, 1, 0, 0, 1, 0, 1, 0, 1, 0, 0, 0, 0, 0, 0, 0, 1, 0, 1, 1,\n",
       "       0, 0, 1, 1, 1, 1, 0, 0, 1, 0, 1, 0, 0, 0, 0, 1, 0, 0, 1, 0, 1, 0,\n",
       "       1, 0, 1, 0, 1, 1, 0, 1, 0, 0, 0, 1, 0, 0, 1, 0, 0, 0, 1, 1, 1, 1,\n",
       "       0, 0, 0, 0, 1, 0, 1, 0, 1, 0, 1, 0, 0, 0, 0, 0, 1, 0, 0, 0, 1, 1,\n",
       "       0, 0, 0, 0, 0, 0, 1, 0, 1, 1, 0, 1, 0, 0, 0, 0, 0, 1, 1, 1, 1, 0,\n",
       "       0, 0, 0, 0, 0, 1, 0, 0, 0, 0, 1, 0, 0, 0, 0, 0, 0, 0, 1, 1, 0, 1,\n",
       "       0, 0, 0, 0, 0, 1, 1, 1, 0, 0, 0, 0, 0, 0, 0, 1, 1, 0, 1, 1, 0, 0,\n",
       "       1, 0, 0, 1, 0, 0, 0, 0, 0, 0, 0, 0, 0, 1, 0, 1, 0, 1, 0, 1, 1, 0,\n",
       "       0, 0, 1, 0, 1, 0, 0, 1, 0, 1, 1, 0, 1, 0, 0, 0, 1, 0, 0, 1, 0, 0,\n",
       "       1, 1, 0, 0, 0, 0, 0, 0, 0, 1, 0, 1, 0, 0, 0, 0, 0, 1, 0, 0, 0, 1,\n",
       "       0, 1, 0, 0, 1, 0, 1, 0, 0, 0, 0, 0, 1, 1, 1, 1, 1, 0, 1, 0, 0, 0])"
      ]
     },
     "execution_count": 141,
     "metadata": {},
     "output_type": "execute_result"
    }
   ],
   "source": [
    "pred_valid = clf_class.predict(test_df6.values)\n",
    "pred_valid"
   ]
  },
  {
   "cell_type": "code",
   "execution_count": 143,
   "metadata": {},
   "outputs": [
    {
     "data": {
      "text/html": [
       "<div>\n",
       "<style scoped>\n",
       "    .dataframe tbody tr th:only-of-type {\n",
       "        vertical-align: middle;\n",
       "    }\n",
       "\n",
       "    .dataframe tbody tr th {\n",
       "        vertical-align: top;\n",
       "    }\n",
       "\n",
       "    .dataframe thead th {\n",
       "        text-align: right;\n",
       "    }\n",
       "</style>\n",
       "<table border=\"1\" class=\"dataframe\">\n",
       "  <thead>\n",
       "    <tr style=\"text-align: right;\">\n",
       "      <th></th>\n",
       "      <th>PassengerId</th>\n",
       "      <th>Survived</th>\n",
       "    </tr>\n",
       "  </thead>\n",
       "  <tbody>\n",
       "    <tr>\n",
       "      <th>413</th>\n",
       "      <td>1305</td>\n",
       "      <td>0</td>\n",
       "    </tr>\n",
       "    <tr>\n",
       "      <th>414</th>\n",
       "      <td>1306</td>\n",
       "      <td>1</td>\n",
       "    </tr>\n",
       "    <tr>\n",
       "      <th>415</th>\n",
       "      <td>1307</td>\n",
       "      <td>0</td>\n",
       "    </tr>\n",
       "    <tr>\n",
       "      <th>416</th>\n",
       "      <td>1308</td>\n",
       "      <td>0</td>\n",
       "    </tr>\n",
       "    <tr>\n",
       "      <th>417</th>\n",
       "      <td>1309</td>\n",
       "      <td>0</td>\n",
       "    </tr>\n",
       "  </tbody>\n",
       "</table>\n",
       "</div>"
      ],
      "text/plain": [
       "     PassengerId  Survived\n",
       "413         1305         0\n",
       "414         1306         1\n",
       "415         1307         0\n",
       "416         1308         0\n",
       "417         1309         0"
      ]
     },
     "execution_count": 143,
     "metadata": {},
     "output_type": "execute_result"
    }
   ],
   "source": [
    "submission =pd.read_csv(\"id.csv\", header=0)\n",
    "submission[\"Survived\"] = pred_valid\n",
    "submission.to_csv(\"submission_xgboost.csv\",index=False)\n",
    "submission.tail()"
   ]
  },
  {
   "cell_type": "code",
   "execution_count": 33,
   "metadata": {},
   "outputs": [
    {
     "data": {
      "image/png": "[encoded data removed]",
      "text/plain": [
       "<Figure size 360x216 with 1 Axes>"
      ]
     },
     "metadata": {},
     "output_type": "display_data"
    }
   ],
   "source": [
    "# feature importance のプロット\n",
    "import matplotlib.pyplot as plt\n",
    "plt.figure(figsize=(5, 3))\n",
    "importances = pd.Series(clf_class.feature_importances_)\n",
    "importances = importances.sort_values()\n",
    "importances.plot(kind = \"barh\")\n",
    "plt.title(\"imporance in the xgboost Model\")\n",
    "plt.show()"
   ]
  },
  {
   "cell_type": "markdown",
   "metadata": {},
   "source": [
    "# 結果\n",
    "- チケットの値段\n",
    "- 年齢\n",
    "- 性別\n",
    "\n",
    "# おまけ：ランダムフォレスト"
   ]
  },
  {
   "cell_type": "code",
   "execution_count": 28,
   "metadata": {},
   "outputs": [
    {
     "data": {
      "text/plain": [
       "0.88268156424581"
      ]
     },
     "execution_count": 28,
     "metadata": {},
     "output_type": "execute_result"
    }
   ],
   "source": [
    "# http://d.hatena.ne.jp/shakezo/20121221/1356089207\n",
    "#木の本数かね\n",
    "# n_jobs=2 -> CPU コアを2つ使用して並列処理\n",
    "# n_estimators=10 -> 10個の決定木からランダムフォレストをトレーニング\n",
    "from sklearn.ensemble import RandomForestClassifier\n",
    "forest = RandomForestClassifier(n_estimators=1000,random_state=1, n_jobs=4)\n",
    "\n",
    "\n",
    "forest.fit(train_x, train_y)\n",
    "\n",
    "\n",
    "# 識別率を確認\n",
    "predicted = forest.predict(valid_x)\n",
    "sum(predicted == valid_y) / len(valid_y)\n"
   ]
  },
  {
   "cell_type": "code",
   "execution_count": 29,
   "metadata": {},
   "outputs": [
    {
     "data": {
      "text/html": [
       "<div>\n",
       "<style scoped>\n",
       "    .dataframe tbody tr th:only-of-type {\n",
       "        vertical-align: middle;\n",
       "    }\n",
       "\n",
       "    .dataframe tbody tr th {\n",
       "        vertical-align: top;\n",
       "    }\n",
       "\n",
       "    .dataframe thead th {\n",
       "        text-align: right;\n",
       "    }\n",
       "</style>\n",
       "<table border=\"1\" class=\"dataframe\">\n",
       "  <thead>\n",
       "    <tr style=\"text-align: right;\">\n",
       "      <th></th>\n",
       "      <th>PassengerId</th>\n",
       "      <th>Survived</th>\n",
       "    </tr>\n",
       "  </thead>\n",
       "  <tbody>\n",
       "    <tr>\n",
       "      <th>413</th>\n",
       "      <td>1305</td>\n",
       "      <td>0</td>\n",
       "    </tr>\n",
       "    <tr>\n",
       "      <th>414</th>\n",
       "      <td>1306</td>\n",
       "      <td>1</td>\n",
       "    </tr>\n",
       "    <tr>\n",
       "      <th>415</th>\n",
       "      <td>1307</td>\n",
       "      <td>0</td>\n",
       "    </tr>\n",
       "    <tr>\n",
       "      <th>416</th>\n",
       "      <td>1308</td>\n",
       "      <td>0</td>\n",
       "    </tr>\n",
       "    <tr>\n",
       "      <th>417</th>\n",
       "      <td>1309</td>\n",
       "      <td>1</td>\n",
       "    </tr>\n",
       "  </tbody>\n",
       "</table>\n",
       "</div>"
      ],
      "text/plain": [
       "     PassengerId  Survived\n",
       "413         1305         0\n",
       "414         1306         1\n",
       "415         1307         0\n",
       "416         1308         0\n",
       "417         1309         1"
      ]
     },
     "execution_count": 29,
     "metadata": {},
     "output_type": "execute_result"
    }
   ],
   "source": [
    "predicted = forest.predict(test_df6.values)\n",
    "submission =pd.read_csv(\"id.csv\", header=0)\n",
    "submission[\"Survived\"] = predicted\n",
    "submission.to_csv(\"submission_rf.csv\",index=False)\n",
    "submission.tail()"
   ]
  }
 ],
 "metadata": {
  "kernelspec": {
   "display_name": "Python 3",
   "language": "python",
   "name": "python3"
  },
  "language_info": {
   "codemirror_mode": {
    "name": "ipython",
    "version": 3
   },
   "file_extension": ".py",
   "mimetype": "text/x-python",
   "name": "python",
   "nbconvert_exporter": "python",
   "pygments_lexer": "ipython3",
   "version": "3.5.3"
  }
 },
 "nbformat": 4,
 "nbformat_minor": 2
}
